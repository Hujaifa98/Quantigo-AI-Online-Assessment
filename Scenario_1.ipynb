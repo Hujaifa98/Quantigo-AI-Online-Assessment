{
  "nbformat": 4,
  "nbformat_minor": 0,
  "metadata": {
    "colab": {
      "provenance": []
    },
    "kernelspec": {
      "name": "python3",
      "display_name": "Python 3"
    },
    "language_info": {
      "name": "python"
    }
  },
  "cells": [
    {
      "cell_type": "code",
      "execution_count": 16,
      "metadata": {
        "id": "I2t4iuJe6stY"
      },
      "outputs": [],
      "source": [
        "import json\n",
        "from zipfile import ZipFile"
      ]
    },
    {
      "cell_type": "code",
      "source": [
        "#Download the ZipFile from Google Drive\n",
        "!gdown 1OztzUGW3iemKgFLNdatYA69FwqCtA5Tx"
      ],
      "metadata": {
        "colab": {
          "base_uri": "https://localhost:8080/"
        },
        "id": "zyrv7-0C-M1G",
        "outputId": "483f305f-62c7-4403-f350-e5610a4bced4"
      },
      "execution_count": 17,
      "outputs": [
        {
          "output_type": "stream",
          "name": "stdout",
          "text": [
            "Downloading...\n",
            "From: https://drive.google.com/uc?id=1OztzUGW3iemKgFLNdatYA69FwqCtA5Tx\n",
            "To: /content/sampleJson.zip\n",
            "\r  0% 0.00/2.60k [00:00<?, ?B/s]\r100% 2.60k/2.60k [00:00<00:00, 12.3MB/s]\n"
          ]
        }
      ]
    },
    {
      "cell_type": "code",
      "source": [
        "#UnZip the downloaded files\n",
        "with ZipFile(\"/content/sampleJson.zip\", 'r') as zObject:\n",
        "  zObject.extractall('/content/new')"
      ],
      "metadata": {
        "id": "u0c2N7mW_Y6g"
      },
      "execution_count": 18,
      "outputs": []
    },
    {
      "cell_type": "code",
      "source": [
        "json_dir = '/content/new/pos_10492.png.json' #Write the directory of the json file that needs to be formatted\n",
        "f = open(json_dir)\n",
        "sdata = json.load(f)"
      ],
      "metadata": {
        "id": "UvkWMgR37B3e"
      },
      "execution_count": 38,
      "outputs": []
    },
    {
      "cell_type": "code",
      "source": [
        "sdata"
      ],
      "metadata": {
        "colab": {
          "base_uri": "https://localhost:8080/"
        },
        "id": "LZDtQrdx7MLO",
        "outputId": "751e3fc2-ba56-4878-f30a-c748c568845e"
      },
      "execution_count": 39,
      "outputs": [
        {
          "output_type": "execute_result",
          "data": {
            "text/plain": [
              "{'description': '',\n",
              " 'tags': [],\n",
              " 'size': {'height': 720, 'width': 1280},\n",
              " 'objects': []}"
            ]
          },
          "metadata": {},
          "execution_count": 39
        }
      ]
    },
    {
      "cell_type": "code",
      "source": [
        "contains = []\n",
        "#Keep the Class Tittles of the JSON file in a list to check later.\n",
        "for i in sdata['objects']:\n",
        "    contains.append(i['classTitle'])\n",
        "vehicle_attribute = {}\n",
        "lisence_attribute = {}\n",
        "\n",
        "#If JSON file had Vehicle in it\n",
        "if 'Vehicle' in contains:\n",
        "  vehicle_annotation = {'presence': 1, 'bbox':[element for innerList in sdata['objects'][0]['points']['exterior'] for element in innerList]}\n",
        "  for i in sdata['objects'][0]['tags']:\n",
        "    vehicle_attribute[i['name']]=i['value']\n",
        "#If JSON file didn't had Vehicle in it set the default values\n",
        "else:\n",
        "  vehicle_annotation = {'presence': 0, 'bbox':[]}\n",
        "  vehicle_attribute = {'Type': None,'Pose': None,'Model': None,'Make': None,'Color': None}\n",
        "\n",
        "\n",
        "#If JSON file had License Plate in it\n",
        "if 'License Plate' in contains:\n",
        "  lisence_annotation = {'presence': 1, 'bbox':[element for innerList in sdata['objects'][1]['points']['exterior'] for element in innerList]}\n",
        "  for i in sdata['objects'][1]['tags']:\n",
        "    lisence_attribute[i['name']]=i['value']\n",
        "  lisence_attribute['Occlusion'] = 0\n",
        "#If JSON file didn't had License Plate in it set the default values\n",
        "else:\n",
        "  lisence_annotation = {'presence': 0, 'bbox':[]}\n",
        "  lisence_attribute = {'Difficulty Score': None,'Value': None,'Occlusion': None}\n",
        "\n",
        "final_json = {'dataset_name':json_dir[json_dir.rfind(\"/\") + 1:],'image_link': '','annotation_type': 'image','annotation_objects': {'vehicle':vehicle_annotation, 'license_plate':lisence_annotation},'annotation_attributes':{'vehicle':vehicle_attribute, 'license_plate':lisence_attribute}}"
      ],
      "metadata": {
        "id": "fFMNiZZU8ji4"
      },
      "execution_count": 41,
      "outputs": []
    },
    {
      "cell_type": "code",
      "source": [
        "final_json"
      ],
      "metadata": {
        "colab": {
          "base_uri": "https://localhost:8080/"
        },
        "id": "ZzMtQ52vjRac",
        "outputId": "d98f77aa-b886-4ee8-da19-945064d60ac2"
      },
      "execution_count": 42,
      "outputs": [
        {
          "output_type": "execute_result",
          "data": {
            "text/plain": [
              "{'dataset_name': 'pos_10492.png.json',\n",
              " 'image_link': '',\n",
              " 'annotation_type': 'image',\n",
              " 'annotation_objects': {'vehicle': {'presence': 0, 'bbox': []},\n",
              "  'license_plate': {'presence': 0, 'bbox': []}},\n",
              " 'annotation_attributes': {'vehicle': {'Type': None,\n",
              "   'Pose': None,\n",
              "   'Model': None,\n",
              "   'Make': None,\n",
              "   'Color': None},\n",
              "  'license_plate': {'Difficulty Score': None,\n",
              "   'Value': None,\n",
              "   'Occlusion': None}}}"
            ]
          },
          "metadata": {},
          "execution_count": 42
        }
      ]
    },
    {
      "cell_type": "code",
      "source": [
        "#Save the final formatted JSON file\n",
        "with open('/content/formatted_'+json_dir[json_dir.rfind(\"/\") + 1:], \"w\") as outfile:\n",
        "    json.dump(final_json, outfile)"
      ],
      "metadata": {
        "id": "Tl7h6aA5qCzj"
      },
      "execution_count": 44,
      "outputs": []
    }
  ]
}