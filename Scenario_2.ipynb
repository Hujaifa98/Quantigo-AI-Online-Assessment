{
  "nbformat": 4,
  "nbformat_minor": 0,
  "metadata": {
    "colab": {
      "provenance": [],
      "authorship_tag": "ABX9TyMtzpW/B8TuO/Mk3rB9++2i",
      "include_colab_link": true
    },
    "kernelspec": {
      "name": "python3",
      "display_name": "Python 3"
    },
    "language_info": {
      "name": "python"
    }
  },
  "cells": [
    {
      "cell_type": "markdown",
      "metadata": {
        "id": "view-in-github",
        "colab_type": "text"
      },
      "source": [
        "<a href=\"https://colab.research.google.com/github/Hujaifa98/Quantigo-AI-Online-Assessment/blob/main/Scenario_2.ipynb\" target=\"_parent\"><img src=\"https://colab.research.google.com/assets/colab-badge.svg\" alt=\"Open In Colab\"/></a>"
      ]
    },
    {
      "cell_type": "code",
      "execution_count": 1,
      "metadata": {
        "id": "t3Xb28XewGl4"
      },
      "outputs": [],
      "source": [
        "import json\n",
        "import os\n",
        "from collections import defaultdict\n",
        "from zipfile import ZipFile"
      ]
    },
    {
      "cell_type": "code",
      "source": [
        "#Download the ZipFile from Google Drive\n",
        "!gdown 1OztzUGW3iemKgFLNdatYA69FwqCtA5Tx"
      ],
      "metadata": {
        "colab": {
          "base_uri": "https://localhost:8080/"
        },
        "id": "WZoQ6zjnC9EW",
        "outputId": "131f93ae-2c40-47c6-9b7b-923b3809714c"
      },
      "execution_count": 2,
      "outputs": [
        {
          "output_type": "stream",
          "name": "stdout",
          "text": [
            "Downloading...\n",
            "From: https://drive.google.com/uc?id=1OztzUGW3iemKgFLNdatYA69FwqCtA5Tx\n",
            "To: /content/sampleJson.zip\n",
            "\r  0% 0.00/2.60k [00:00<?, ?B/s]\r100% 2.60k/2.60k [00:00<00:00, 14.9MB/s]\n"
          ]
        }
      ]
    },
    {
      "cell_type": "code",
      "source": [
        "#UnZip the downloaded files\n",
        "with ZipFile(\"/content/sampleJson.zip\", 'r') as zObject:\n",
        "  zObject.extractall('/content/new')"
      ],
      "metadata": {
        "id": "Xap6eikHDA73"
      },
      "execution_count": 3,
      "outputs": []
    },
    {
      "cell_type": "code",
      "source": [
        "path_to_jsonfiles = '/content/new/'\n",
        "#Keep the directory of every JSON file into a list\n",
        "json_file_names = [path_to_jsonfiles+filename for filename in os.listdir(path_to_jsonfiles) if filename.endswith('.json') and 'formatted' not in filename]"
      ],
      "metadata": {
        "id": "2xGBnQ84xb_C"
      },
      "execution_count": 8,
      "outputs": []
    },
    {
      "cell_type": "code",
      "source": [
        "json_file_names"
      ],
      "metadata": {
        "colab": {
          "base_uri": "https://localhost:8080/"
        },
        "id": "G5t7eK0iw0c7",
        "outputId": "332ae718-8ef9-44bc-8b9a-fda691f08c06"
      },
      "execution_count": 9,
      "outputs": [
        {
          "output_type": "execute_result",
          "data": {
            "text/plain": [
              "['/content/new/pos_0.png.json',\n",
              " '/content/new/pos_10492.png.json',\n",
              " '/content/new/pos_10010.png.json']"
            ]
          },
          "metadata": {},
          "execution_count": 9
        }
      ]
    },
    {
      "cell_type": "code",
      "source": [
        "'''\n",
        "Combine multiple JSON files into a single JSON file in the following format,\n",
        "json1 = {key1:val11, key2:val12, key3:val13}\n",
        "json2 = {key1:val21, key2:val22, key3:val23}\n",
        "json3 = {key1:val31, key2:val32, key3:val33}\n",
        "merged_json = {\n",
        "  key1:[val11,val21,val31],\n",
        "  key2:[val12,val22,val23],\n",
        "  key3:[val31,val32,val33]\n",
        "}\n",
        "'''\n",
        "merged_json = defaultdict(list)\n",
        "for json_file_dir in json_file_names:\n",
        "  f = open(json_file_dir)\n",
        "  json_file = json.load(f)\n",
        "  for key, val in json_file.items():\n",
        "    merged_json[key].append(val)"
      ],
      "metadata": {
        "id": "kUofEBOFyllJ"
      },
      "execution_count": 10,
      "outputs": []
    },
    {
      "cell_type": "code",
      "source": [
        "merged_json"
      ],
      "metadata": {
        "colab": {
          "base_uri": "https://localhost:8080/"
        },
        "id": "ZOtBkdwvEqZP",
        "outputId": "50920c43-3623-40f6-9f70-0dd356a8ac66"
      },
      "execution_count": 11,
      "outputs": [
        {
          "output_type": "execute_result",
          "data": {
            "text/plain": [
              "defaultdict(list,\n",
              "            {'description': ['', '', ''],\n",
              "             'tags': [[], [], []],\n",
              "             'size': [{'height': 720, 'width': 1280},\n",
              "              {'height': 720, 'width': 1280},\n",
              "              {'height': 720, 'width': 1280}],\n",
              "             'objects': [[{'id': 28602834,\n",
              "                'classId': 17389,\n",
              "                'description': '',\n",
              "                'geometryType': 'rectangle',\n",
              "                'labelerLogin': 'muyeed',\n",
              "                'createdAt': '2021-11-24T04:04:09.702Z',\n",
              "                'updatedAt': '2021-11-24T04:04:09.702Z',\n",
              "                'tags': [{'id': 29485103,\n",
              "                  'tagId': 32292,\n",
              "                  'name': 'Type',\n",
              "                  'value': 'SUV',\n",
              "                  'labelerLogin': 'muyeed',\n",
              "                  'createdAt': '2021-11-24T04:04:09.702Z',\n",
              "                  'updatedAt': '2021-11-24T04:04:09.702Z'},\n",
              "                 {'id': 29485102,\n",
              "                  'tagId': 32295,\n",
              "                  'name': 'Pose',\n",
              "                  'value': 'Rear',\n",
              "                  'labelerLogin': 'muyeed',\n",
              "                  'createdAt': '2021-11-24T04:04:09.702Z',\n",
              "                  'updatedAt': '2021-11-24T04:04:09.702Z'},\n",
              "                 {'id': 29485101,\n",
              "                  'tagId': 32297,\n",
              "                  'name': 'Model',\n",
              "                  'value': 'UN',\n",
              "                  'labelerLogin': 'muyeed',\n",
              "                  'createdAt': '2021-11-24T04:04:09.702Z',\n",
              "                  'updatedAt': '2021-11-24T04:04:09.702Z'},\n",
              "                 {'id': 29485100,\n",
              "                  'tagId': 32296,\n",
              "                  'name': 'Make',\n",
              "                  'value': 'Lexus',\n",
              "                  'labelerLogin': 'muyeed',\n",
              "                  'createdAt': '2021-11-24T04:04:09.702Z',\n",
              "                  'updatedAt': '2021-11-24T04:04:09.702Z'},\n",
              "                 {'id': 29485099,\n",
              "                  'tagId': 32291,\n",
              "                  'name': 'Color',\n",
              "                  'value': 'Silver',\n",
              "                  'labelerLogin': 'muyeed',\n",
              "                  'createdAt': '2021-11-24T04:04:09.702Z',\n",
              "                  'updatedAt': '2021-11-24T04:04:09.702Z'}],\n",
              "                'classTitle': 'Vehicle',\n",
              "                'points': {'exterior': [[396, 3], [773, 314]],\n",
              "                 'interior': []}},\n",
              "               {'id': 28602833,\n",
              "                'classId': 17388,\n",
              "                'description': '',\n",
              "                'geometryType': 'rectangle',\n",
              "                'labelerLogin': 'muyeed',\n",
              "                'createdAt': '2021-11-24T04:04:09.702Z',\n",
              "                'updatedAt': '2021-11-24T04:04:09.702Z',\n",
              "                'tags': [{'id': 29485098,\n",
              "                  'tagId': 32293,\n",
              "                  'name': 'Difficulty Score',\n",
              "                  'value': '0',\n",
              "                  'labelerLogin': 'muyeed',\n",
              "                  'createdAt': '2021-11-24T04:04:09.702Z',\n",
              "                  'updatedAt': '2021-11-24T04:04:09.702Z'},\n",
              "                 {'id': 29485097,\n",
              "                  'tagId': 32290,\n",
              "                  'name': 'Value',\n",
              "                  'value': 'CA, 7LVS119',\n",
              "                  'labelerLogin': 'muyeed',\n",
              "                  'createdAt': '2021-11-24T04:04:09.702Z',\n",
              "                  'updatedAt': '2021-11-24T04:04:09.702Z'}],\n",
              "                'classTitle': 'License Plate',\n",
              "                'points': {'exterior': [[535, 158], [622, 213]],\n",
              "                 'interior': []}}],\n",
              "              [],\n",
              "              [{'id': 28636340,\n",
              "                'classId': 17389,\n",
              "                'description': '',\n",
              "                'geometryType': 'rectangle',\n",
              "                'labelerLogin': 'muyeed',\n",
              "                'createdAt': '2021-11-24T04:04:09.702Z',\n",
              "                'updatedAt': '2021-11-24T04:04:09.702Z',\n",
              "                'tags': [{'id': 29607253,\n",
              "                  'tagId': 32296,\n",
              "                  'name': 'Make',\n",
              "                  'value': 'Mercedes-Benz',\n",
              "                  'labelerLogin': 'muyeed',\n",
              "                  'createdAt': '2021-11-24T04:04:09.702Z',\n",
              "                  'updatedAt': '2021-11-24T04:04:09.702Z'},\n",
              "                 {'id': 29607252,\n",
              "                  'tagId': 32292,\n",
              "                  'name': 'Type',\n",
              "                  'value': 'SUV',\n",
              "                  'labelerLogin': 'muyeed',\n",
              "                  'createdAt': '2021-11-24T04:04:09.702Z',\n",
              "                  'updatedAt': '2021-11-24T04:04:09.702Z'},\n",
              "                 {'id': 29607251,\n",
              "                  'tagId': 32295,\n",
              "                  'name': 'Pose',\n",
              "                  'value': 'Rear',\n",
              "                  'labelerLogin': 'muyeed',\n",
              "                  'createdAt': '2021-11-24T04:04:09.702Z',\n",
              "                  'updatedAt': '2021-11-24T04:04:09.702Z'},\n",
              "                 {'id': 29607250,\n",
              "                  'tagId': 32297,\n",
              "                  'name': 'Model',\n",
              "                  'value': 'UN',\n",
              "                  'labelerLogin': 'muyeed',\n",
              "                  'createdAt': '2021-11-24T04:04:09.702Z',\n",
              "                  'updatedAt': '2021-11-24T04:04:09.702Z'},\n",
              "                 {'id': 29607249,\n",
              "                  'tagId': 32291,\n",
              "                  'name': 'Color',\n",
              "                  'value': 'Silver',\n",
              "                  'labelerLogin': 'muyeed',\n",
              "                  'createdAt': '2021-11-24T04:04:09.702Z',\n",
              "                  'updatedAt': '2021-11-24T04:04:09.702Z'}],\n",
              "                'classTitle': 'Vehicle',\n",
              "                'points': {'exterior': [[770, 0], [882, 306]],\n",
              "                 'interior': []}}]]})"
            ]
          },
          "metadata": {},
          "execution_count": 11
        }
      ]
    },
    {
      "cell_type": "code",
      "source": [
        "#Change the Class Tittle from Vehicle to Car and from License Plate to Number\n",
        "for i in merged_json['objects']:\n",
        "  for j in i:\n",
        "    if j['classTitle'] == 'Vehicle':\n",
        "      j['classTitle'] = 'Car'\n",
        "    elif j['classTitle'] == 'License Plate':\n",
        "      j['classTitle'] = 'Number'\n",
        "    "
      ],
      "metadata": {
        "colab": {
          "base_uri": "https://localhost:8080/"
        },
        "id": "aC6WWfwsz5co",
        "outputId": "a8c2095b-1ccb-4451-c9db-1c1dfe9a61c5"
      },
      "execution_count": null,
      "outputs": [
        {
          "output_type": "stream",
          "name": "stdout",
          "text": [
            "<class 'list'>\n",
            "<class 'list'>\n",
            "<class 'list'>\n"
          ]
        }
      ]
    },
    {
      "cell_type": "code",
      "source": [
        "merged_json"
      ],
      "metadata": {
        "colab": {
          "base_uri": "https://localhost:8080/"
        },
        "id": "1LjVZxmO1jy4",
        "outputId": "a8118cad-80e0-4fa5-b124-cb096f873b5a"
      },
      "execution_count": null,
      "outputs": [
        {
          "output_type": "execute_result",
          "data": {
            "text/plain": [
              "defaultdict(list,\n",
              "            {'description': ['', '', ''],\n",
              "             'tags': [[], [], []],\n",
              "             'size': [{'height': 720, 'width': 1280},\n",
              "              {'height': 720, 'width': 1280},\n",
              "              {'height': 720, 'width': 1280}],\n",
              "             'objects': [[{'id': 28602834,\n",
              "                'classId': 17389,\n",
              "                'description': '',\n",
              "                'geometryType': 'rectangle',\n",
              "                'labelerLogin': 'muyeed',\n",
              "                'createdAt': '2021-11-24T04:04:09.702Z',\n",
              "                'updatedAt': '2021-11-24T04:04:09.702Z',\n",
              "                'tags': [{'id': 29485103,\n",
              "                  'tagId': 32292,\n",
              "                  'name': 'Type',\n",
              "                  'value': 'SUV',\n",
              "                  'labelerLogin': 'muyeed',\n",
              "                  'createdAt': '2021-11-24T04:04:09.702Z',\n",
              "                  'updatedAt': '2021-11-24T04:04:09.702Z'},\n",
              "                 {'id': 29485102,\n",
              "                  'tagId': 32295,\n",
              "                  'name': 'Pose',\n",
              "                  'value': 'Rear',\n",
              "                  'labelerLogin': 'muyeed',\n",
              "                  'createdAt': '2021-11-24T04:04:09.702Z',\n",
              "                  'updatedAt': '2021-11-24T04:04:09.702Z'},\n",
              "                 {'id': 29485101,\n",
              "                  'tagId': 32297,\n",
              "                  'name': 'Model',\n",
              "                  'value': 'UN',\n",
              "                  'labelerLogin': 'muyeed',\n",
              "                  'createdAt': '2021-11-24T04:04:09.702Z',\n",
              "                  'updatedAt': '2021-11-24T04:04:09.702Z'},\n",
              "                 {'id': 29485100,\n",
              "                  'tagId': 32296,\n",
              "                  'name': 'Make',\n",
              "                  'value': 'Lexus',\n",
              "                  'labelerLogin': 'muyeed',\n",
              "                  'createdAt': '2021-11-24T04:04:09.702Z',\n",
              "                  'updatedAt': '2021-11-24T04:04:09.702Z'},\n",
              "                 {'id': 29485099,\n",
              "                  'tagId': 32291,\n",
              "                  'name': 'Color',\n",
              "                  'value': 'Silver',\n",
              "                  'labelerLogin': 'muyeed',\n",
              "                  'createdAt': '2021-11-24T04:04:09.702Z',\n",
              "                  'updatedAt': '2021-11-24T04:04:09.702Z'}],\n",
              "                'classTitle': 'Car',\n",
              "                'points': {'exterior': [[396, 3], [773, 314]],\n",
              "                 'interior': []}},\n",
              "               {'id': 28602833,\n",
              "                'classId': 17388,\n",
              "                'description': '',\n",
              "                'geometryType': 'rectangle',\n",
              "                'labelerLogin': 'muyeed',\n",
              "                'createdAt': '2021-11-24T04:04:09.702Z',\n",
              "                'updatedAt': '2021-11-24T04:04:09.702Z',\n",
              "                'tags': [{'id': 29485098,\n",
              "                  'tagId': 32293,\n",
              "                  'name': 'Difficulty Score',\n",
              "                  'value': '0',\n",
              "                  'labelerLogin': 'muyeed',\n",
              "                  'createdAt': '2021-11-24T04:04:09.702Z',\n",
              "                  'updatedAt': '2021-11-24T04:04:09.702Z'},\n",
              "                 {'id': 29485097,\n",
              "                  'tagId': 32290,\n",
              "                  'name': 'Value',\n",
              "                  'value': 'CA, 7LVS119',\n",
              "                  'labelerLogin': 'muyeed',\n",
              "                  'createdAt': '2021-11-24T04:04:09.702Z',\n",
              "                  'updatedAt': '2021-11-24T04:04:09.702Z'}],\n",
              "                'classTitle': 'Number',\n",
              "                'points': {'exterior': [[535, 158], [622, 213]],\n",
              "                 'interior': []}}],\n",
              "              [],\n",
              "              [{'id': 28636340,\n",
              "                'classId': 17389,\n",
              "                'description': '',\n",
              "                'geometryType': 'rectangle',\n",
              "                'labelerLogin': 'muyeed',\n",
              "                'createdAt': '2021-11-24T04:04:09.702Z',\n",
              "                'updatedAt': '2021-11-24T04:04:09.702Z',\n",
              "                'tags': [{'id': 29607253,\n",
              "                  'tagId': 32296,\n",
              "                  'name': 'Make',\n",
              "                  'value': 'Mercedes-Benz',\n",
              "                  'labelerLogin': 'muyeed',\n",
              "                  'createdAt': '2021-11-24T04:04:09.702Z',\n",
              "                  'updatedAt': '2021-11-24T04:04:09.702Z'},\n",
              "                 {'id': 29607252,\n",
              "                  'tagId': 32292,\n",
              "                  'name': 'Type',\n",
              "                  'value': 'SUV',\n",
              "                  'labelerLogin': 'muyeed',\n",
              "                  'createdAt': '2021-11-24T04:04:09.702Z',\n",
              "                  'updatedAt': '2021-11-24T04:04:09.702Z'},\n",
              "                 {'id': 29607251,\n",
              "                  'tagId': 32295,\n",
              "                  'name': 'Pose',\n",
              "                  'value': 'Rear',\n",
              "                  'labelerLogin': 'muyeed',\n",
              "                  'createdAt': '2021-11-24T04:04:09.702Z',\n",
              "                  'updatedAt': '2021-11-24T04:04:09.702Z'},\n",
              "                 {'id': 29607250,\n",
              "                  'tagId': 32297,\n",
              "                  'name': 'Model',\n",
              "                  'value': 'UN',\n",
              "                  'labelerLogin': 'muyeed',\n",
              "                  'createdAt': '2021-11-24T04:04:09.702Z',\n",
              "                  'updatedAt': '2021-11-24T04:04:09.702Z'},\n",
              "                 {'id': 29607249,\n",
              "                  'tagId': 32291,\n",
              "                  'name': 'Color',\n",
              "                  'value': 'Silver',\n",
              "                  'labelerLogin': 'muyeed',\n",
              "                  'createdAt': '2021-11-24T04:04:09.702Z',\n",
              "                  'updatedAt': '2021-11-24T04:04:09.702Z'}],\n",
              "                'classTitle': 'Car',\n",
              "                'points': {'exterior': [[770, 0], [882, 306]],\n",
              "                 'interior': []}}]]})"
            ]
          },
          "metadata": {},
          "execution_count": 30
        }
      ]
    },
    {
      "cell_type": "code",
      "source": [
        "#Save the final merged JSON file\n",
        "with open('merged_json.json', \"w\") as outfile:\n",
        "    json.dump(merged_json, outfile)"
      ],
      "metadata": {
        "id": "mTrVLN40E4ov"
      },
      "execution_count": 12,
      "outputs": []
    },
    {
      "cell_type": "code",
      "source": [],
      "metadata": {
        "id": "HuakVIFKFE4k"
      },
      "execution_count": null,
      "outputs": []
    }
  ]
}